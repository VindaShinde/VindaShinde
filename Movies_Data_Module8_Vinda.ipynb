{
  "nbformat": 4,
  "nbformat_minor": 0,
  "metadata": {
    "colab": {
      "name": "Movies_Data_Module8_Vinda.ipynb",
      "provenance": [],
      "collapsed_sections": [],
      "include_colab_link": true
    },
    "kernelspec": {
      "name": "python3",
      "display_name": "Python 3"
    },
    "language_info": {
      "name": "python"
    }
  },
  "cells": [
    {
      "cell_type": "markdown",
      "metadata": {
        "id": "view-in-github",
        "colab_type": "text"
      },
      "source": [
        "<a href=\"https://colab.research.google.com/github/VindaShinde/VindaShinde/blob/main/Movies_Data_Module8_Vinda.ipynb\" target=\"_parent\"><img src=\"https://colab.research.google.com/assets/colab-badge.svg\" alt=\"Open In Colab\"/></a>"
      ]
    },
    {
      "cell_type": "markdown",
      "metadata": {
        "id": "G5TqglWD6FoT"
      },
      "source": [
        "# Movies data analysis\n",
        " \n",
        "\n",
        "Author - Vinda Shinde\n"
      ]
    },
    {
      "cell_type": "code",
      "metadata": {
        "id": "11f8kbLh6E0O"
      },
      "source": [
        "import numpy as np\n",
        "import pandas as pd\n",
        "import matplotlib.pyplot as plt\n",
        "import seaborn as sns"
      ],
      "execution_count": null,
      "outputs": []
    },
    {
      "cell_type": "code",
      "metadata": {
        "id": "VFPyCfOG6M2b"
      },
      "source": [
        "movies_df = pd.read_csv(\"movies.csv\")"
      ],
      "execution_count": null,
      "outputs": []
    },
    {
      "cell_type": "markdown",
      "metadata": {
        "id": "LC8y9RmbP5ws"
      },
      "source": [
        "# 1) Objective of the Proposed Research\n",
        "\n",
        "As an analyst to Steven Spielberg who wants to produce a new movie for the summer, I want to showcase different data points to him. I have the data available with 6820 movies in the dataset (220 movies per year, 1986-2016), data is taken from Kaggle.\n",
        "\n",
        "I will perform the Data exploration and try and find the best features to be included in the movie so that, as a producer, Steven should be able to get maximum returns on his investment.\n"
      ]
    },
    {
      "cell_type": "code",
      "metadata": {
        "colab": {
          "base_uri": "https://localhost:8080/",
          "height": 466
        },
        "id": "KSbOMu8-62y3",
        "outputId": "dd71bc6a-69cf-4c08-cdc7-464cc1c4d158"
      },
      "source": [
        "movies_df.head()"
      ],
      "execution_count": null,
      "outputs": [
        {
          "output_type": "execute_result",
          "data": {
            "text/html": [
              "<div>\n",
              "<style scoped>\n",
              "    .dataframe tbody tr th:only-of-type {\n",
              "        vertical-align: middle;\n",
              "    }\n",
              "\n",
              "    .dataframe tbody tr th {\n",
              "        vertical-align: top;\n",
              "    }\n",
              "\n",
              "    .dataframe thead th {\n",
              "        text-align: right;\n",
              "    }\n",
              "</style>\n",
              "<table border=\"1\" class=\"dataframe\">\n",
              "  <thead>\n",
              "    <tr style=\"text-align: right;\">\n",
              "      <th></th>\n",
              "      <th>name</th>\n",
              "      <th>rating</th>\n",
              "      <th>genre</th>\n",
              "      <th>year</th>\n",
              "      <th>released</th>\n",
              "      <th>score</th>\n",
              "      <th>votes</th>\n",
              "      <th>director</th>\n",
              "      <th>writer</th>\n",
              "      <th>star</th>\n",
              "      <th>country</th>\n",
              "      <th>budget</th>\n",
              "      <th>gross</th>\n",
              "      <th>company</th>\n",
              "      <th>runtime</th>\n",
              "    </tr>\n",
              "  </thead>\n",
              "  <tbody>\n",
              "    <tr>\n",
              "      <th>0</th>\n",
              "      <td>The Shining</td>\n",
              "      <td>R</td>\n",
              "      <td>Drama</td>\n",
              "      <td>1980</td>\n",
              "      <td>June 13, 1980 (United States)</td>\n",
              "      <td>8.4</td>\n",
              "      <td>927000.0</td>\n",
              "      <td>Stanley Kubrick</td>\n",
              "      <td>Stephen King</td>\n",
              "      <td>Jack Nicholson</td>\n",
              "      <td>United Kingdom</td>\n",
              "      <td>19000000.0</td>\n",
              "      <td>46998772.0</td>\n",
              "      <td>Warner Bros.</td>\n",
              "      <td>146.0</td>\n",
              "    </tr>\n",
              "    <tr>\n",
              "      <th>1</th>\n",
              "      <td>The Blue Lagoon</td>\n",
              "      <td>R</td>\n",
              "      <td>Adventure</td>\n",
              "      <td>1980</td>\n",
              "      <td>July 2, 1980 (United States)</td>\n",
              "      <td>5.8</td>\n",
              "      <td>65000.0</td>\n",
              "      <td>Randal Kleiser</td>\n",
              "      <td>Henry De Vere Stacpoole</td>\n",
              "      <td>Brooke Shields</td>\n",
              "      <td>United States</td>\n",
              "      <td>4500000.0</td>\n",
              "      <td>58853106.0</td>\n",
              "      <td>Columbia Pictures</td>\n",
              "      <td>104.0</td>\n",
              "    </tr>\n",
              "    <tr>\n",
              "      <th>2</th>\n",
              "      <td>Star Wars: Episode V - The Empire Strikes Back</td>\n",
              "      <td>PG</td>\n",
              "      <td>Action</td>\n",
              "      <td>1980</td>\n",
              "      <td>June 20, 1980 (United States)</td>\n",
              "      <td>8.7</td>\n",
              "      <td>1200000.0</td>\n",
              "      <td>Irvin Kershner</td>\n",
              "      <td>Leigh Brackett</td>\n",
              "      <td>Mark Hamill</td>\n",
              "      <td>United States</td>\n",
              "      <td>18000000.0</td>\n",
              "      <td>538375067.0</td>\n",
              "      <td>Lucasfilm</td>\n",
              "      <td>124.0</td>\n",
              "    </tr>\n",
              "    <tr>\n",
              "      <th>3</th>\n",
              "      <td>Airplane!</td>\n",
              "      <td>PG</td>\n",
              "      <td>Comedy</td>\n",
              "      <td>1980</td>\n",
              "      <td>July 2, 1980 (United States)</td>\n",
              "      <td>7.7</td>\n",
              "      <td>221000.0</td>\n",
              "      <td>Jim Abrahams</td>\n",
              "      <td>Jim Abrahams</td>\n",
              "      <td>Robert Hays</td>\n",
              "      <td>United States</td>\n",
              "      <td>3500000.0</td>\n",
              "      <td>83453539.0</td>\n",
              "      <td>Paramount Pictures</td>\n",
              "      <td>88.0</td>\n",
              "    </tr>\n",
              "    <tr>\n",
              "      <th>4</th>\n",
              "      <td>Caddyshack</td>\n",
              "      <td>R</td>\n",
              "      <td>Comedy</td>\n",
              "      <td>1980</td>\n",
              "      <td>July 25, 1980 (United States)</td>\n",
              "      <td>7.3</td>\n",
              "      <td>108000.0</td>\n",
              "      <td>Harold Ramis</td>\n",
              "      <td>Brian Doyle-Murray</td>\n",
              "      <td>Chevy Chase</td>\n",
              "      <td>United States</td>\n",
              "      <td>6000000.0</td>\n",
              "      <td>39846344.0</td>\n",
              "      <td>Orion Pictures</td>\n",
              "      <td>98.0</td>\n",
              "    </tr>\n",
              "  </tbody>\n",
              "</table>\n",
              "</div>"
            ],
            "text/plain": [
              "                                             name  ... runtime\n",
              "0                                     The Shining  ...   146.0\n",
              "1                                 The Blue Lagoon  ...   104.0\n",
              "2  Star Wars: Episode V - The Empire Strikes Back  ...   124.0\n",
              "3                                       Airplane!  ...    88.0\n",
              "4                                      Caddyshack  ...    98.0\n",
              "\n",
              "[5 rows x 15 columns]"
            ]
          },
          "metadata": {},
          "execution_count": 4
        }
      ]
    },
    {
      "cell_type": "code",
      "metadata": {
        "colab": {
          "base_uri": "https://localhost:8080/",
          "height": 300
        },
        "id": "qJM6Iirh67sI",
        "outputId": "3558c414-d407-4cf4-91d7-61be41e6abe0"
      },
      "source": [
        "movies_df.describe()\n",
        "#movies_df.shape"
      ],
      "execution_count": null,
      "outputs": [
        {
          "output_type": "execute_result",
          "data": {
            "text/html": [
              "<div>\n",
              "<style scoped>\n",
              "    .dataframe tbody tr th:only-of-type {\n",
              "        vertical-align: middle;\n",
              "    }\n",
              "\n",
              "    .dataframe tbody tr th {\n",
              "        vertical-align: top;\n",
              "    }\n",
              "\n",
              "    .dataframe thead th {\n",
              "        text-align: right;\n",
              "    }\n",
              "</style>\n",
              "<table border=\"1\" class=\"dataframe\">\n",
              "  <thead>\n",
              "    <tr style=\"text-align: right;\">\n",
              "      <th></th>\n",
              "      <th>year</th>\n",
              "      <th>score</th>\n",
              "      <th>votes</th>\n",
              "      <th>budget</th>\n",
              "      <th>gross</th>\n",
              "      <th>runtime</th>\n",
              "    </tr>\n",
              "  </thead>\n",
              "  <tbody>\n",
              "    <tr>\n",
              "      <th>count</th>\n",
              "      <td>7668.000000</td>\n",
              "      <td>7665.000000</td>\n",
              "      <td>7.665000e+03</td>\n",
              "      <td>5.497000e+03</td>\n",
              "      <td>7.479000e+03</td>\n",
              "      <td>7664.000000</td>\n",
              "    </tr>\n",
              "    <tr>\n",
              "      <th>mean</th>\n",
              "      <td>2000.405451</td>\n",
              "      <td>6.390411</td>\n",
              "      <td>8.810850e+04</td>\n",
              "      <td>3.558988e+07</td>\n",
              "      <td>7.850054e+07</td>\n",
              "      <td>107.261613</td>\n",
              "    </tr>\n",
              "    <tr>\n",
              "      <th>std</th>\n",
              "      <td>11.153508</td>\n",
              "      <td>0.968842</td>\n",
              "      <td>1.633238e+05</td>\n",
              "      <td>4.145730e+07</td>\n",
              "      <td>1.657251e+08</td>\n",
              "      <td>18.581247</td>\n",
              "    </tr>\n",
              "    <tr>\n",
              "      <th>min</th>\n",
              "      <td>1980.000000</td>\n",
              "      <td>1.900000</td>\n",
              "      <td>7.000000e+00</td>\n",
              "      <td>3.000000e+03</td>\n",
              "      <td>3.090000e+02</td>\n",
              "      <td>55.000000</td>\n",
              "    </tr>\n",
              "    <tr>\n",
              "      <th>25%</th>\n",
              "      <td>1991.000000</td>\n",
              "      <td>5.800000</td>\n",
              "      <td>9.100000e+03</td>\n",
              "      <td>1.000000e+07</td>\n",
              "      <td>4.532056e+06</td>\n",
              "      <td>95.000000</td>\n",
              "    </tr>\n",
              "    <tr>\n",
              "      <th>50%</th>\n",
              "      <td>2000.000000</td>\n",
              "      <td>6.500000</td>\n",
              "      <td>3.300000e+04</td>\n",
              "      <td>2.050000e+07</td>\n",
              "      <td>2.020576e+07</td>\n",
              "      <td>104.000000</td>\n",
              "    </tr>\n",
              "    <tr>\n",
              "      <th>75%</th>\n",
              "      <td>2010.000000</td>\n",
              "      <td>7.100000</td>\n",
              "      <td>9.300000e+04</td>\n",
              "      <td>4.500000e+07</td>\n",
              "      <td>7.601669e+07</td>\n",
              "      <td>116.000000</td>\n",
              "    </tr>\n",
              "    <tr>\n",
              "      <th>max</th>\n",
              "      <td>2020.000000</td>\n",
              "      <td>9.300000</td>\n",
              "      <td>2.400000e+06</td>\n",
              "      <td>3.560000e+08</td>\n",
              "      <td>2.847246e+09</td>\n",
              "      <td>366.000000</td>\n",
              "    </tr>\n",
              "  </tbody>\n",
              "</table>\n",
              "</div>"
            ],
            "text/plain": [
              "              year        score  ...         gross      runtime\n",
              "count  7668.000000  7665.000000  ...  7.479000e+03  7664.000000\n",
              "mean   2000.405451     6.390411  ...  7.850054e+07   107.261613\n",
              "std      11.153508     0.968842  ...  1.657251e+08    18.581247\n",
              "min    1980.000000     1.900000  ...  3.090000e+02    55.000000\n",
              "25%    1991.000000     5.800000  ...  4.532056e+06    95.000000\n",
              "50%    2000.000000     6.500000  ...  2.020576e+07   104.000000\n",
              "75%    2010.000000     7.100000  ...  7.601669e+07   116.000000\n",
              "max    2020.000000     9.300000  ...  2.847246e+09   366.000000\n",
              "\n",
              "[8 rows x 6 columns]"
            ]
          },
          "metadata": {},
          "execution_count": 10
        }
      ]
    },
    {
      "cell_type": "code",
      "metadata": {
        "colab": {
          "base_uri": "https://localhost:8080/"
        },
        "id": "YJSSxjVeGBu4",
        "outputId": "3d4960e0-15c3-428e-8ec3-8c0d528e1f8b"
      },
      "source": [
        "movies_df.isnull().sum()"
      ],
      "execution_count": null,
      "outputs": [
        {
          "output_type": "execute_result",
          "data": {
            "text/plain": [
              "name           0\n",
              "rating        77\n",
              "genre          0\n",
              "year           0\n",
              "released       2\n",
              "score          3\n",
              "votes          3\n",
              "director       0\n",
              "writer         3\n",
              "star           1\n",
              "country        3\n",
              "budget      2171\n",
              "gross        189\n",
              "company       17\n",
              "runtime        4\n",
              "dtype: int64"
            ]
          },
          "metadata": {},
          "execution_count": 8
        }
      ]
    },
    {
      "cell_type": "code",
      "metadata": {
        "colab": {
          "base_uri": "https://localhost:8080/"
        },
        "id": "0ipGEZUzGctg",
        "outputId": "477b7fb5-b079-4bdb-97dc-b3b261eec10b"
      },
      "source": [
        "movies_df.dropna(inplace=True)\n",
        "movies_df.isnull().sum()"
      ],
      "execution_count": null,
      "outputs": [
        {
          "output_type": "execute_result",
          "data": {
            "text/plain": [
              "name        0\n",
              "rating      0\n",
              "genre       0\n",
              "year        0\n",
              "released    0\n",
              "score       0\n",
              "votes       0\n",
              "director    0\n",
              "writer      0\n",
              "star        0\n",
              "country     0\n",
              "budget      0\n",
              "gross       0\n",
              "company     0\n",
              "runtime     0\n",
              "dtype: int64"
            ]
          },
          "metadata": {},
          "execution_count": 11
        }
      ]
    },
    {
      "cell_type": "code",
      "metadata": {
        "colab": {
          "base_uri": "https://localhost:8080/"
        },
        "id": "8eXSDSZrIxo-",
        "outputId": "f1cd0dc6-036e-465f-8bb3-6c1f87783b33"
      },
      "source": [
        "movies_df.dtypes"
      ],
      "execution_count": null,
      "outputs": [
        {
          "output_type": "execute_result",
          "data": {
            "text/plain": [
              "name         object\n",
              "rating       object\n",
              "genre        object\n",
              "year          int64\n",
              "released     object\n",
              "score       float64\n",
              "votes       float64\n",
              "director     object\n",
              "writer       object\n",
              "star         object\n",
              "country      object\n",
              "budget      float64\n",
              "gross       float64\n",
              "company      object\n",
              "runtime     float64\n",
              "dtype: object"
            ]
          },
          "metadata": {},
          "execution_count": 14
        }
      ]
    },
    {
      "cell_type": "markdown",
      "metadata": {
        "id": "5Xgy1T52QEJH"
      },
      "source": [
        "# 2) Data Exploration"
      ]
    },
    {
      "cell_type": "code",
      "metadata": {
        "colab": {
          "base_uri": "https://localhost:8080/",
          "height": 486
        },
        "id": "oftCgIcu7A-O",
        "outputId": "84f46517-18e4-4082-81d0-aa25481850ae"
      },
      "source": [
        "#sort data by score\n",
        "higr_score_movies = movies_df.sort_values(by=['score'],ascending=False)\n",
        "higr_score_movies.head()"
      ],
      "execution_count": null,
      "outputs": [
        {
          "output_type": "execute_result",
          "data": {
            "text/html": [
              "<div>\n",
              "<style scoped>\n",
              "    .dataframe tbody tr th:only-of-type {\n",
              "        vertical-align: middle;\n",
              "    }\n",
              "\n",
              "    .dataframe tbody tr th {\n",
              "        vertical-align: top;\n",
              "    }\n",
              "\n",
              "    .dataframe thead th {\n",
              "        text-align: right;\n",
              "    }\n",
              "</style>\n",
              "<table border=\"1\" class=\"dataframe\">\n",
              "  <thead>\n",
              "    <tr style=\"text-align: right;\">\n",
              "      <th></th>\n",
              "      <th>name</th>\n",
              "      <th>rating</th>\n",
              "      <th>genre</th>\n",
              "      <th>year</th>\n",
              "      <th>released</th>\n",
              "      <th>score</th>\n",
              "      <th>votes</th>\n",
              "      <th>director</th>\n",
              "      <th>writer</th>\n",
              "      <th>star</th>\n",
              "      <th>country</th>\n",
              "      <th>budget</th>\n",
              "      <th>gross</th>\n",
              "      <th>company</th>\n",
              "      <th>runtime</th>\n",
              "    </tr>\n",
              "  </thead>\n",
              "  <tbody>\n",
              "    <tr>\n",
              "      <th>2443</th>\n",
              "      <td>The Shawshank Redemption</td>\n",
              "      <td>R</td>\n",
              "      <td>Drama</td>\n",
              "      <td>1994</td>\n",
              "      <td>October 14, 1994 (United States)</td>\n",
              "      <td>9.3</td>\n",
              "      <td>2400000.0</td>\n",
              "      <td>Frank Darabont</td>\n",
              "      <td>Stephen King</td>\n",
              "      <td>Tim Robbins</td>\n",
              "      <td>United States</td>\n",
              "      <td>25000000.0</td>\n",
              "      <td>2.881729e+07</td>\n",
              "      <td>Castle Rock Entertainment</td>\n",
              "      <td>142.0</td>\n",
              "    </tr>\n",
              "    <tr>\n",
              "      <th>5243</th>\n",
              "      <td>The Dark Knight</td>\n",
              "      <td>PG-13</td>\n",
              "      <td>Action</td>\n",
              "      <td>2008</td>\n",
              "      <td>July 18, 2008 (United States)</td>\n",
              "      <td>9.0</td>\n",
              "      <td>2400000.0</td>\n",
              "      <td>Christopher Nolan</td>\n",
              "      <td>Jonathan Nolan</td>\n",
              "      <td>Christian Bale</td>\n",
              "      <td>United States</td>\n",
              "      <td>185000000.0</td>\n",
              "      <td>1.005974e+09</td>\n",
              "      <td>Warner Bros.</td>\n",
              "      <td>152.0</td>\n",
              "    </tr>\n",
              "    <tr>\n",
              "      <th>2247</th>\n",
              "      <td>Schindler's List</td>\n",
              "      <td>R</td>\n",
              "      <td>Biography</td>\n",
              "      <td>1993</td>\n",
              "      <td>February 4, 1994 (United States)</td>\n",
              "      <td>8.9</td>\n",
              "      <td>1200000.0</td>\n",
              "      <td>Steven Spielberg</td>\n",
              "      <td>Thomas Keneally</td>\n",
              "      <td>Liam Neeson</td>\n",
              "      <td>United States</td>\n",
              "      <td>22000000.0</td>\n",
              "      <td>3.221612e+08</td>\n",
              "      <td>Universal Pictures</td>\n",
              "      <td>195.0</td>\n",
              "    </tr>\n",
              "    <tr>\n",
              "      <th>2444</th>\n",
              "      <td>Pulp Fiction</td>\n",
              "      <td>R</td>\n",
              "      <td>Crime</td>\n",
              "      <td>1994</td>\n",
              "      <td>October 14, 1994 (United States)</td>\n",
              "      <td>8.9</td>\n",
              "      <td>1900000.0</td>\n",
              "      <td>Quentin Tarantino</td>\n",
              "      <td>Quentin Tarantino</td>\n",
              "      <td>John Travolta</td>\n",
              "      <td>United States</td>\n",
              "      <td>8000000.0</td>\n",
              "      <td>2.139288e+08</td>\n",
              "      <td>Miramax</td>\n",
              "      <td>154.0</td>\n",
              "    </tr>\n",
              "    <tr>\n",
              "      <th>4245</th>\n",
              "      <td>The Lord of the Rings: The Return of the King</td>\n",
              "      <td>PG-13</td>\n",
              "      <td>Action</td>\n",
              "      <td>2003</td>\n",
              "      <td>December 17, 2003 (United States)</td>\n",
              "      <td>8.9</td>\n",
              "      <td>1700000.0</td>\n",
              "      <td>Peter Jackson</td>\n",
              "      <td>J.R.R. Tolkien</td>\n",
              "      <td>Elijah Wood</td>\n",
              "      <td>New Zealand</td>\n",
              "      <td>94000000.0</td>\n",
              "      <td>1.146031e+09</td>\n",
              "      <td>New Line Cinema</td>\n",
              "      <td>201.0</td>\n",
              "    </tr>\n",
              "  </tbody>\n",
              "</table>\n",
              "</div>"
            ],
            "text/plain": [
              "                                               name  ... runtime\n",
              "2443                       The Shawshank Redemption  ...   142.0\n",
              "5243                                The Dark Knight  ...   152.0\n",
              "2247                               Schindler's List  ...   195.0\n",
              "2444                                   Pulp Fiction  ...   154.0\n",
              "4245  The Lord of the Rings: The Return of the King  ...   201.0\n",
              "\n",
              "[5 rows x 15 columns]"
            ]
          },
          "metadata": {},
          "execution_count": 19
        }
      ]
    },
    {
      "cell_type": "markdown",
      "metadata": {
        "id": "gh32fSraaW4F"
      },
      "source": [
        "Listing the top scored moview to check their details."
      ]
    },
    {
      "cell_type": "code",
      "metadata": {
        "colab": {
          "base_uri": "https://localhost:8080/",
          "height": 305
        },
        "id": "8hV34E6_CwxP",
        "outputId": "d40b43d8-103f-4fde-eacc-b10ec1b9bd19"
      },
      "source": [
        "#Correlations of numeric features\n",
        "corr = movies_df.corr()\n",
        "sns.heatmap(corr, annot=True, vmin=-1,)\n",
        "plt.title('Movie Correlations for Numeric Features', size=20,%colors)\n",
        "plt.xlabel('Features', size=15)\n",
        "plt.ylabel('Features', size=25)\n",
        "plt.show()"
      ],
      "execution_count": null,
      "outputs": [
        {
          "output_type": "display_data",
          "data": {
            "image/png": "[encoded data removed]",
            "text/plain": [
              "<Figure size 432x288 with 2 Axes>"
            ]
          },
          "metadata": {
            "needs_background": "light"
          }
        }
      ]
    },
    {
      "cell_type": "markdown",
      "metadata": {
        "id": "MJ-hBbIWNMJZ"
      },
      "source": [
        "From the above correlation plot we can see that the movies with highest rating need not be of high budget and may not give higher returns. Because if we look at the plot, the score to budget ration is about 7% and acore to gross ration is 22% only.\n",
        "\n",
        "At the same time, budget and gross have positive relation as well as votes and gross have positive relation."
      ]
    },
    {
      "cell_type": "code",
      "metadata": {
        "colab": {
          "base_uri": "https://localhost:8080/",
          "height": 360
        },
        "id": "c72imt2eMyPz",
        "outputId": "fbb71df7-797b-4189-cf91-79d34566e699"
      },
      "source": [
        "#Scatter Plot for budget to gross\n",
        "plt.figure(figsize=(15,5))\n",
        "sns.regplot(x='budget', y='gross', data=movies_df, scatter_kws={'color':'pink'}, line_kws={'color':'green'})\n",
        "plt.title('Budget vs Gross Earnings', size=20)\n",
        "plt.xlabel('Film Budget (millions)', size=15)\n",
        "plt.ylabel('Gross Earnings (millions)', size=15)\n",
        "\n",
        "plt.show()"
      ],
      "execution_count": null,
      "outputs": [
        {
          "output_type": "display_data",
          "data": {
            "image/png": "[encoded data removed]",
            "text/plain": [
              "<Figure size 1080x360 with 1 Axes>"
            ]
          },
          "metadata": {
            "needs_background": "light"
          }
        }
      ]
    },
    {
      "cell_type": "code",
      "metadata": {
        "colab": {
          "base_uri": "https://localhost:8080/",
          "height": 360
        },
        "id": "A8pxo2MhRKmu",
        "outputId": "486e838f-fc7c-45f2-82bc-4d1a46efb193"
      },
      "source": [
        "#Scatter Plot for budget to gross\n",
        "plt.figure(figsize=(15,5))\n",
        "sns.regplot(x='votes', y='gross', data=movies_df, scatter_kws={'color':'pink'}, line_kws={'color':'green'})\n",
        "plt.title('Budget vs Gross Earnings', size=20)\n",
        "plt.xlabel('Votes (millions)', size=15)\n",
        "plt.ylabel('Gross Earnings (millions)', size=15)\n",
        "\n",
        "plt.show()"
      ],
      "execution_count": null,
      "outputs": [
        {
          "output_type": "display_data",
          "data": {
            "image/png": "[encoded data removed]",
            "text/plain": [
              "<Figure size 1080x360 with 1 Axes>"
            ]
          },
          "metadata": {
            "needs_background": "light"
          }
        }
      ]
    },
    {
      "cell_type": "markdown",
      "metadata": {
        "id": "OusLp-xVS302"
      },
      "source": [
        "Post finding details for both the above plots it is very clear that, puplic votes and budget are mainly contributing to higher gross incomes from the movies."
      ]
    },
    {
      "cell_type": "markdown",
      "metadata": {
        "id": "WZ8wb19J8d-r"
      },
      "source": [
        "# 3) Subsets of Data"
      ]
    },
    {
      "cell_type": "code",
      "metadata": {
        "colab": {
          "base_uri": "https://localhost:8080/",
          "height": 206
        },
        "id": "J0vC06vgSt95",
        "outputId": "a8b6bf97-cbe4-4272-cd1b-9543b4eaa04b"
      },
      "source": [
        "Genre_to_gross = movies_df.groupby(['genre'],as_index=False)['gross'].sum().sort_values(by='gross', ascending=False)\n",
        "Genre_to_gross.reset_index()\n",
        "Genre_to_gross.head(5)"
      ],
      "execution_count": null,
      "outputs": [
        {
          "output_type": "execute_result",
          "data": {
            "text/html": [
              "<div>\n",
              "<style scoped>\n",
              "    .dataframe tbody tr th:only-of-type {\n",
              "        vertical-align: middle;\n",
              "    }\n",
              "\n",
              "    .dataframe tbody tr th {\n",
              "        vertical-align: top;\n",
              "    }\n",
              "\n",
              "    .dataframe thead th {\n",
              "        text-align: right;\n",
              "    }\n",
              "</style>\n",
              "<table border=\"1\" class=\"dataframe\">\n",
              "  <thead>\n",
              "    <tr style=\"text-align: right;\">\n",
              "      <th></th>\n",
              "      <th>genre</th>\n",
              "      <th>gross</th>\n",
              "    </tr>\n",
              "  </thead>\n",
              "  <tbody>\n",
              "    <tr>\n",
              "      <th>0</th>\n",
              "      <td>Action</td>\n",
              "      <td>2.377529e+11</td>\n",
              "    </tr>\n",
              "    <tr>\n",
              "      <th>4</th>\n",
              "      <td>Comedy</td>\n",
              "      <td>8.851482e+10</td>\n",
              "    </tr>\n",
              "    <tr>\n",
              "      <th>2</th>\n",
              "      <td>Animation</td>\n",
              "      <td>7.786591e+10</td>\n",
              "    </tr>\n",
              "    <tr>\n",
              "      <th>6</th>\n",
              "      <td>Drama</td>\n",
              "      <td>5.209856e+10</td>\n",
              "    </tr>\n",
              "    <tr>\n",
              "      <th>1</th>\n",
              "      <td>Adventure</td>\n",
              "      <td>4.357871e+10</td>\n",
              "    </tr>\n",
              "  </tbody>\n",
              "</table>\n",
              "</div>"
            ],
            "text/plain": [
              "       genre         gross\n",
              "0     Action  2.377529e+11\n",
              "4     Comedy  8.851482e+10\n",
              "2  Animation  7.786591e+10\n",
              "6      Drama  5.209856e+10\n",
              "1  Adventure  4.357871e+10"
            ]
          },
          "metadata": {},
          "execution_count": 109
        }
      ]
    },
    {
      "cell_type": "markdown",
      "metadata": {
        "id": "PZH7gzvMNX2l"
      },
      "source": [
        "The top 5 geners that are with the highest gross income starts from Action, Comedy, Animation, Drama and Adventure. So to get maximum money any of theses 5 generes will help."
      ]
    },
    {
      "cell_type": "code",
      "metadata": {
        "colab": {
          "base_uri": "https://localhost:8080/",
          "height": 206
        },
        "id": "xQuS0DBUM229",
        "outputId": "761f2897-a306-43f7-d4fe-0fe0f1148273"
      },
      "source": [
        "Director_to_score = movies_df.groupby(['director'],as_index=False)['score'].sum().sort_values(by='score', ascending=False)\n",
        "Director_to_score.reset_index()\n",
        "Director_to_score.head(5)"
      ],
      "execution_count": null,
      "outputs": [
        {
          "output_type": "execute_result",
          "data": {
            "text/html": [
              "<div>\n",
              "<style scoped>\n",
              "    .dataframe tbody tr th:only-of-type {\n",
              "        vertical-align: middle;\n",
              "    }\n",
              "\n",
              "    .dataframe tbody tr th {\n",
              "        vertical-align: top;\n",
              "    }\n",
              "\n",
              "    .dataframe thead th {\n",
              "        text-align: right;\n",
              "    }\n",
              "</style>\n",
              "<table border=\"1\" class=\"dataframe\">\n",
              "  <thead>\n",
              "    <tr style=\"text-align: right;\">\n",
              "      <th></th>\n",
              "      <th>director</th>\n",
              "      <th>score</th>\n",
              "    </tr>\n",
              "  </thead>\n",
              "  <tbody>\n",
              "    <tr>\n",
              "      <th>2043</th>\n",
              "      <td>Woody Allen</td>\n",
              "      <td>231.3</td>\n",
              "    </tr>\n",
              "    <tr>\n",
              "      <th>327</th>\n",
              "      <td>Clint Eastwood</td>\n",
              "      <td>216.0</td>\n",
              "    </tr>\n",
              "    <tr>\n",
              "      <th>1859</th>\n",
              "      <td>Steven Spielberg</td>\n",
              "      <td>200.9</td>\n",
              "    </tr>\n",
              "    <tr>\n",
              "      <th>1623</th>\n",
              "      <td>Ridley Scott</td>\n",
              "      <td>159.3</td>\n",
              "    </tr>\n",
              "    <tr>\n",
              "      <th>1698</th>\n",
              "      <td>Ron Howard</td>\n",
              "      <td>157.2</td>\n",
              "    </tr>\n",
              "  </tbody>\n",
              "</table>\n",
              "</div>"
            ],
            "text/plain": [
              "              director  score\n",
              "2043       Woody Allen  231.3\n",
              "327     Clint Eastwood  216.0\n",
              "1859  Steven Spielberg  200.9\n",
              "1623      Ridley Scott  159.3\n",
              "1698        Ron Howard  157.2"
            ]
          },
          "metadata": {},
          "execution_count": 108
        }
      ]
    },
    {
      "cell_type": "markdown",
      "metadata": {
        "id": "lhaRUdASOLPw"
      },
      "source": [
        "The Top 5 directors whos movies are rated high are listed above, getting the movie directed by them will be liked by audiences."
      ]
    },
    {
      "cell_type": "code",
      "metadata": {
        "colab": {
          "base_uri": "https://localhost:8080/",
          "height": 206
        },
        "id": "6-l3E8mlN3m-",
        "outputId": "b91f276d-19b6-40cf-b926-19b7a206312c"
      },
      "source": [
        "Start_to_votes = movies_df.groupby(['star'],as_index=False)['votes'].sum().sort_values(by='votes', ascending=False)\n",
        "Start_to_votes.reset_index()\n",
        "Start_to_votes.head(5)"
      ],
      "execution_count": null,
      "outputs": [
        {
          "output_type": "execute_result",
          "data": {
            "text/html": [
              "<div>\n",
              "<style scoped>\n",
              "    .dataframe tbody tr th:only-of-type {\n",
              "        vertical-align: middle;\n",
              "    }\n",
              "\n",
              "    .dataframe tbody tr th {\n",
              "        vertical-align: top;\n",
              "    }\n",
              "\n",
              "    .dataframe thead th {\n",
              "        text-align: right;\n",
              "    }\n",
              "</style>\n",
              "<table border=\"1\" class=\"dataframe\">\n",
              "  <thead>\n",
              "    <tr style=\"text-align: right;\">\n",
              "      <th></th>\n",
              "      <th>star</th>\n",
              "      <th>votes</th>\n",
              "    </tr>\n",
              "  </thead>\n",
              "  <tbody>\n",
              "    <tr>\n",
              "      <th>1735</th>\n",
              "      <td>Tom Hanks</td>\n",
              "      <td>12421000.0</td>\n",
              "    </tr>\n",
              "    <tr>\n",
              "      <th>1073</th>\n",
              "      <td>Leonardo DiCaprio</td>\n",
              "      <td>12027000.0</td>\n",
              "    </tr>\n",
              "    <tr>\n",
              "      <th>297</th>\n",
              "      <td>Christian Bale</td>\n",
              "      <td>9985000.0</td>\n",
              "    </tr>\n",
              "    <tr>\n",
              "      <th>187</th>\n",
              "      <td>Brad Pitt</td>\n",
              "      <td>8698800.0</td>\n",
              "    </tr>\n",
              "    <tr>\n",
              "      <th>889</th>\n",
              "      <td>Johnny Depp</td>\n",
              "      <td>8280000.0</td>\n",
              "    </tr>\n",
              "  </tbody>\n",
              "</table>\n",
              "</div>"
            ],
            "text/plain": [
              "                   star       votes\n",
              "1735          Tom Hanks  12421000.0\n",
              "1073  Leonardo DiCaprio  12027000.0\n",
              "297      Christian Bale   9985000.0\n",
              "187           Brad Pitt   8698800.0\n",
              "889         Johnny Depp   8280000.0"
            ]
          },
          "metadata": {},
          "execution_count": 111
        }
      ]
    },
    {
      "cell_type": "markdown",
      "metadata": {
        "id": "xNRgTmbUOlfC"
      },
      "source": [
        "The highets voted movies are played by the top 5 actors above."
      ]
    },
    {
      "cell_type": "code",
      "metadata": {
        "colab": {
          "base_uri": "https://localhost:8080/",
          "height": 206
        },
        "id": "4BJmsbEUPfYi",
        "outputId": "3900a914-00ee-4875-b75f-222b9588d9e9"
      },
      "source": [
        "Country_to_budget = movies_df.groupby(['country'],as_index=False)['budget'].sum().sort_values(by='budget', ascending=False)\n",
        "Country_to_budget.reset_index()\n",
        "\n",
        "Country_to_budget.head(5)\n"
      ],
      "execution_count": null,
      "outputs": [
        {
          "output_type": "execute_result",
          "data": {
            "text/html": [
              "<div>\n",
              "<style scoped>\n",
              "    .dataframe tbody tr th:only-of-type {\n",
              "        vertical-align: middle;\n",
              "    }\n",
              "\n",
              "    .dataframe tbody tr th {\n",
              "        vertical-align: top;\n",
              "    }\n",
              "\n",
              "    .dataframe thead th {\n",
              "        text-align: right;\n",
              "    }\n",
              "</style>\n",
              "<table border=\"1\" class=\"dataframe\">\n",
              "  <thead>\n",
              "    <tr style=\"text-align: right;\">\n",
              "      <th></th>\n",
              "      <th>country</th>\n",
              "      <th>budget</th>\n",
              "    </tr>\n",
              "  </thead>\n",
              "  <tbody>\n",
              "    <tr>\n",
              "      <th>47</th>\n",
              "      <td>United States</td>\n",
              "      <td>1.614601e+11</td>\n",
              "    </tr>\n",
              "    <tr>\n",
              "      <th>46</th>\n",
              "      <td>United Kingdom</td>\n",
              "      <td>1.643202e+10</td>\n",
              "    </tr>\n",
              "    <tr>\n",
              "      <th>15</th>\n",
              "      <td>Germany</td>\n",
              "      <td>3.344750e+09</td>\n",
              "    </tr>\n",
              "    <tr>\n",
              "      <th>14</th>\n",
              "      <td>France</td>\n",
              "      <td>3.304500e+09</td>\n",
              "    </tr>\n",
              "    <tr>\n",
              "      <th>6</th>\n",
              "      <td>Canada</td>\n",
              "      <td>2.542177e+09</td>\n",
              "    </tr>\n",
              "  </tbody>\n",
              "</table>\n",
              "</div>"
            ],
            "text/plain": [
              "           country        budget\n",
              "47   United States  1.614601e+11\n",
              "46  United Kingdom  1.643202e+10\n",
              "15         Germany  3.344750e+09\n",
              "14          France  3.304500e+09\n",
              "6           Canada  2.542177e+09"
            ]
          },
          "metadata": {},
          "execution_count": 122
        }
      ]
    },
    {
      "cell_type": "code",
      "metadata": {
        "colab": {
          "base_uri": "https://localhost:8080/",
          "height": 377
        },
        "id": "K1ufFBwzUNrS",
        "outputId": "32b69ee5-7f24-449c-f2a3-edb6f3f83bd6"
      },
      "source": [
        "Genre_to_gross.plot(kind='barh', x='genre', y='gross', color='pink', figsize=(8,5))\n",
        "plt.title('Genere to Gross Earnings', size=25, y=1.05)\n",
        "plt.ylabel('Genre', size=15)\n",
        "plt.xlabel('Gross - Amount(100 millions)', size=15)\n",
        "plt.show()"
      ],
      "execution_count": null,
      "outputs": [
        {
          "output_type": "display_data",
          "data": {
            "image/png": "[encoded data removed]",
            "text/plain": [
              "<Figure size 576x360 with 1 Axes>"
            ]
          },
          "metadata": {
            "needs_background": "light"
          }
        }
      ]
    },
    {
      "cell_type": "markdown",
      "metadata": {
        "id": "z6Qp8YIAeeH_"
      },
      "source": [
        "Post sorting by the Genre, the top 8 geners contribute to maximum gross earnings for movies production. The Action movies gives maximum gross incomes followed by Comedy, Animation, Drama, and Adventure."
      ]
    },
    {
      "cell_type": "code",
      "metadata": {
        "colab": {
          "base_uri": "https://localhost:8080/",
          "height": 269
        },
        "id": "A4zVnP0D-h-2",
        "outputId": "b3133d9e-123d-4543-c196-6c7f2b246d69"
      },
      "source": [
        "Year_to_gross = movies_df.groupby(['year'],as_index=False)['gross'].sum().sort_values(by='gross', ascending=False)\n",
        "Year_to_gross.reset_index()\n",
        "Year_to_gross.head(7)"
      ],
      "execution_count": null,
      "outputs": [
        {
          "output_type": "execute_result",
          "data": {
            "text/html": [
              "<div>\n",
              "<style scoped>\n",
              "    .dataframe tbody tr th:only-of-type {\n",
              "        vertical-align: middle;\n",
              "    }\n",
              "\n",
              "    .dataframe tbody tr th {\n",
              "        vertical-align: top;\n",
              "    }\n",
              "\n",
              "    .dataframe thead th {\n",
              "        text-align: right;\n",
              "    }\n",
              "</style>\n",
              "<table border=\"1\" class=\"dataframe\">\n",
              "  <thead>\n",
              "    <tr style=\"text-align: right;\">\n",
              "      <th></th>\n",
              "      <th>year</th>\n",
              "      <th>gross</th>\n",
              "    </tr>\n",
              "  </thead>\n",
              "  <tbody>\n",
              "    <tr>\n",
              "      <th>36</th>\n",
              "      <td>2016</td>\n",
              "      <td>2.784756e+10</td>\n",
              "    </tr>\n",
              "    <tr>\n",
              "      <th>39</th>\n",
              "      <td>2019</td>\n",
              "      <td>2.769267e+10</td>\n",
              "    </tr>\n",
              "    <tr>\n",
              "      <th>37</th>\n",
              "      <td>2017</td>\n",
              "      <td>2.767980e+10</td>\n",
              "    </tr>\n",
              "    <tr>\n",
              "      <th>38</th>\n",
              "      <td>2018</td>\n",
              "      <td>2.755852e+10</td>\n",
              "    </tr>\n",
              "    <tr>\n",
              "      <th>35</th>\n",
              "      <td>2015</td>\n",
              "      <td>2.621691e+10</td>\n",
              "    </tr>\n",
              "    <tr>\n",
              "      <th>34</th>\n",
              "      <td>2014</td>\n",
              "      <td>2.619902e+10</td>\n",
              "    </tr>\n",
              "    <tr>\n",
              "      <th>33</th>\n",
              "      <td>2013</td>\n",
              "      <td>2.569966e+10</td>\n",
              "    </tr>\n",
              "  </tbody>\n",
              "</table>\n",
              "</div>"
            ],
            "text/plain": [
              "    year         gross\n",
              "36  2016  2.784756e+10\n",
              "39  2019  2.769267e+10\n",
              "37  2017  2.767980e+10\n",
              "38  2018  2.755852e+10\n",
              "35  2015  2.621691e+10\n",
              "34  2014  2.619902e+10\n",
              "33  2013  2.569966e+10"
            ]
          },
          "metadata": {},
          "execution_count": 98
        }
      ]
    },
    {
      "cell_type": "code",
      "metadata": {
        "colab": {
          "base_uri": "https://localhost:8080/",
          "height": 269
        },
        "id": "dhAixCgZCK6J",
        "outputId": "9ee1f845-99ce-465b-ddb5-e5e2c0fb7187"
      },
      "source": [
        "Year_to_budget = movies_df.groupby(['year'],as_index=False)['budget'].sum().sort_values(by='budget', ascending=False)\n",
        "Year_to_budget.reset_index()\n",
        "Year_to_budget.head(7)"
      ],
      "execution_count": null,
      "outputs": [
        {
          "output_type": "execute_result",
          "data": {
            "text/html": [
              "<div>\n",
              "<style scoped>\n",
              "    .dataframe tbody tr th:only-of-type {\n",
              "        vertical-align: middle;\n",
              "    }\n",
              "\n",
              "    .dataframe tbody tr th {\n",
              "        vertical-align: top;\n",
              "    }\n",
              "\n",
              "    .dataframe thead th {\n",
              "        text-align: right;\n",
              "    }\n",
              "</style>\n",
              "<table border=\"1\" class=\"dataframe\">\n",
              "  <thead>\n",
              "    <tr style=\"text-align: right;\">\n",
              "      <th></th>\n",
              "      <th>year</th>\n",
              "      <th>budget</th>\n",
              "    </tr>\n",
              "  </thead>\n",
              "  <tbody>\n",
              "    <tr>\n",
              "      <th>36</th>\n",
              "      <td>2016</td>\n",
              "      <td>8.785000e+09</td>\n",
              "    </tr>\n",
              "    <tr>\n",
              "      <th>33</th>\n",
              "      <td>2013</td>\n",
              "      <td>8.101670e+09</td>\n",
              "    </tr>\n",
              "    <tr>\n",
              "      <th>31</th>\n",
              "      <td>2011</td>\n",
              "      <td>7.868730e+09</td>\n",
              "    </tr>\n",
              "    <tr>\n",
              "      <th>32</th>\n",
              "      <td>2012</td>\n",
              "      <td>7.737295e+09</td>\n",
              "    </tr>\n",
              "    <tr>\n",
              "      <th>30</th>\n",
              "      <td>2010</td>\n",
              "      <td>7.652750e+09</td>\n",
              "    </tr>\n",
              "    <tr>\n",
              "      <th>29</th>\n",
              "      <td>2009</td>\n",
              "      <td>7.522500e+09</td>\n",
              "    </tr>\n",
              "    <tr>\n",
              "      <th>28</th>\n",
              "      <td>2008</td>\n",
              "      <td>7.483830e+09</td>\n",
              "    </tr>\n",
              "  </tbody>\n",
              "</table>\n",
              "</div>"
            ],
            "text/plain": [
              "    year        budget\n",
              "36  2016  8.785000e+09\n",
              "33  2013  8.101670e+09\n",
              "31  2011  7.868730e+09\n",
              "32  2012  7.737295e+09\n",
              "30  2010  7.652750e+09\n",
              "29  2009  7.522500e+09\n",
              "28  2008  7.483830e+09"
            ]
          },
          "metadata": {},
          "execution_count": 89
        }
      ]
    },
    {
      "cell_type": "markdown",
      "metadata": {
        "id": "qqDXfzM4RSUL"
      },
      "source": [
        "# 4) Visualization"
      ]
    },
    {
      "cell_type": "code",
      "metadata": {
        "colab": {
          "base_uri": "https://localhost:8080/",
          "height": 411
        },
        "id": "9cUu1VXDZ1NY",
        "outputId": "93189ea1-59c4-4fd4-a4f7-a5029f0c369e"
      },
      "source": [
        "Year_to_gross.plot(kind='bar', x='year', y='gross', color='pink', figsize=(10,5))\n",
        "plt.title('Year and Gross Earnings', size=25, y=1.05)\n",
        "plt.ylabel('Year', size=15)\n",
        "plt.xlabel('Amount(100 millions)', size=15)\n",
        "\n"
      ],
      "execution_count": null,
      "outputs": [
        {
          "output_type": "execute_result",
          "data": {
            "text/plain": [
              "Text(0.5, 0, 'Amount(100 millions)')"
            ]
          },
          "metadata": {},
          "execution_count": 100
        },
        {
          "output_type": "display_data",
          "data": {
            "image/png": "[encoded data removed]",
            "text/plain": [
              "<Figure size 720x360 with 1 Axes>"
            ]
          },
          "metadata": {
            "needs_background": "light"
          }
        }
      ]
    },
    {
      "cell_type": "code",
      "metadata": {
        "colab": {
          "base_uri": "https://localhost:8080/",
          "height": 411
        },
        "id": "BrmcWKSMDQnx",
        "outputId": "45e590ad-b230-4bcc-8e1d-23b8e54c187a"
      },
      "source": [
        "Year_to_budget.plot(kind='bar', x='year', y='budget', color='pink', figsize=(10,5))\n",
        "plt.title('Year and Budget', size=25, y=1.05)\n",
        "plt.ylabel('Budget', size=15)\n",
        "plt.xlabel('Amount(100 millions)', size=15)"
      ],
      "execution_count": null,
      "outputs": [
        {
          "output_type": "execute_result",
          "data": {
            "text/plain": [
              "Text(0.5, 0, 'Amount(100 millions)')"
            ]
          },
          "metadata": {},
          "execution_count": 92
        },
        {
          "output_type": "display_data",
          "data": {
            "image/png": "[encoded data removed]",
            "text/plain": [
              "<Figure size 720x360 with 1 Axes>"
            ]
          },
          "metadata": {
            "needs_background": "light"
          }
        }
      ]
    },
    {
      "cell_type": "markdown",
      "metadata": {
        "id": "ERdSruo_Itps"
      },
      "source": [
        "From the plot we can observer that, the gross incomes are showing the similar trends with budget, where over the year the spend is increased and at the same way the gross income is increased on same range.\n",
        "\n"
      ]
    },
    {
      "cell_type": "code",
      "metadata": {
        "id": "dO9u1cK4JQ0c",
        "colab": {
          "base_uri": "https://localhost:8080/",
          "height": 284
        },
        "outputId": "acc17887-a9ad-4d3d-b802-0c14fb0765de"
      },
      "source": [
        "Top_5_country = Country_to_budget.head(5)\n",
        "mycolors = [\"pink\", \"lightblue\", \"b\", \"#4CAF50\", 'red']\n",
        "plt.pie(Top_5_country.budget, labels=Top_5_country.country,colors=mycolors)\n",
        "plt.title('Top 5 Countries producing hight budget movies', size=25, y=1.05)\n",
        "plt.show()"
      ],
      "execution_count": null,
      "outputs": [
        {
          "output_type": "display_data",
          "data": {
            "image/png": "[encoded data removed]",
            "text/plain": [
              "<Figure size 432x288 with 1 Axes>"
            ]
          },
          "metadata": {}
        }
      ]
    },
    {
      "cell_type": "code",
      "metadata": {
        "colab": {
          "base_uri": "https://localhost:8080/",
          "height": 477
        },
        "id": "KIz-hMrLRsnH",
        "outputId": "ceae34ef-4c78-420c-8d06-aad129c2b465"
      },
      "source": [
        "Top_5_starts = Start_to_votes.head(5)\n",
        "Top_5_starts.plot(kind='bar', x='star', y='votes', color='pink', figsize=(5,5))\n",
        "plt.title('Top 5 Stars with Highest votes', size=25, y=1.05)\n",
        "plt.ylabel('Votes', size=15)\n",
        "plt.xlabel('Star Names', size=15)\n"
      ],
      "execution_count": null,
      "outputs": [
        {
          "output_type": "execute_result",
          "data": {
            "text/plain": [
              "Text(0.5, 0, 'Star Names')"
            ]
          },
          "metadata": {},
          "execution_count": 129
        },
        {
          "output_type": "display_data",
          "data": {
            "image/png": "[encoded data removed]",
            "text/plain": [
              "<Figure size 360x360 with 1 Axes>"
            ]
          },
          "metadata": {
            "needs_background": "light"
          }
        }
      ]
    },
    {
      "cell_type": "code",
      "metadata": {
        "colab": {
          "base_uri": "https://localhost:8080/",
          "height": 284
        },
        "id": "qGHUv8D6VgyC",
        "outputId": "87cdefa9-bb0c-443c-ea02-bd7fb7484a78"
      },
      "source": [
        "Top_5_genere = Genre_to_gross.head(5)\n",
        "mycolors = [\"pink\", \"lightblue\", \"b\", \"#4CAF50\", 'red']\n",
        "plt.pie(Top_5_genere.gross, labels=Top_5_genere.genre,colors=mycolors,)\n",
        "plt.title('Top 5 Generes producing hight budget movies', size=25, y=1.05)\n",
        "plt.show()\n"
      ],
      "execution_count": null,
      "outputs": [
        {
          "output_type": "display_data",
          "data": {
            "image/png": "[encoded data removed]",
            "text/plain": [
              "<Figure size 432x288 with 1 Axes>"
            ]
          },
          "metadata": {}
        }
      ]
    },
    {
      "cell_type": "code",
      "metadata": {
        "colab": {
          "base_uri": "https://localhost:8080/",
          "height": 469
        },
        "id": "RpToH4dsbIZ9",
        "outputId": "971c6937-78db-4568-f1fa-c7af0f057844"
      },
      "source": [
        "Director_to_score\n",
        "\n",
        "Top_5_directors = Director_to_score.head(5)\n",
        "Top_5_directors.plot(kind='bar', x='director', y='score', color='pink', figsize=(5,5))\n",
        "plt.title('Top 5 Directors with Highest scores', size=25, y=1.05)\n",
        "plt.ylabel('Scores', size=15)\n",
        "plt.xlabel('Directors Name', size=15)"
      ],
      "execution_count": null,
      "outputs": [
        {
          "output_type": "execute_result",
          "data": {
            "text/plain": [
              "Text(0.5, 0, 'Directors Name')"
            ]
          },
          "metadata": {},
          "execution_count": 138
        },
        {
          "output_type": "display_data",
          "data": {
            "image/png": "[encoded data removed]",
            "text/plain": [
              "<Figure size 360x360 with 1 Axes>"
            ]
          },
          "metadata": {
            "needs_background": "light"
          }
        }
      ]
    },
    {
      "cell_type": "markdown",
      "metadata": {
        "id": "exjmHIxMOxlN"
      },
      "source": [
        " \n",
        "# 5) Summary\n",
        "From the overall analysis, it is observed that, \n",
        "- The trend of spending on more budget will help get the more gross income.\n",
        "- It is observed that the highest rated movies need not be high budget movies or high gross income generators.\n",
        "- Year over year the spending on the movie budget is increased and looks like it will continue.\n",
        "\n",
        "\n"
      ]
    },
    {
      "cell_type": "markdown",
      "metadata": {
        "id": "6tu9O3T_augO"
      },
      "source": [
        " \n",
        "# 6) Recommendation\n",
        "If Steven Spielberg wants to produce a new movie for the summer then he should produce it himself as one of the most scored directors in the United States or the United Kingdom as movies released in these locations gives higher gross. Also, he should have the start cast including Tom Hanks, Leonardo Dicaprio, Christian Bale as these are the starts voted maximum by audiences so chances of getting more votes increases. He should also produce either Adventure or Comedy movies as its liked by maximum audiences.\n"
      ]
    },
    {
      "cell_type": "code",
      "metadata": {
        "id": "7TmY8nslZgAs"
      },
      "source": [
        ""
      ],
      "execution_count": null,
      "outputs": []
    }
  ]
}